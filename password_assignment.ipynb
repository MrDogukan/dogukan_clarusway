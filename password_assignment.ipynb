{
  "nbformat": 4,
  "nbformat_minor": 0,
  "metadata": {
    "colab": {
      "name": "ilkders.ipynb",
      "provenance": [],
      "authorship_tag": "ABX9TyPkbmMBTezixzjtn8tdIsdj",
      "include_colab_link": true
    },
    "kernelspec": {
      "name": "python3",
      "display_name": "Python 3"
    },
    "language_info": {
      "name": "python"
    }
  },
  "cells": [
    {
      "cell_type": "markdown",
      "metadata": {
        "id": "view-in-github",
        "colab_type": "text"
      },
      "source": [
        "<a href=\"https://colab.research.google.com/github/MrDogukan/dogukan_clarusway/blob/main/password_assignment.ipynb\" target=\"_parent\"><img src=\"https://colab.research.google.com/assets/colab-badge.svg\" alt=\"Open In Colab\"/></a>"
      ]
    },
    {
      "cell_type": "code",
      "metadata": {
        "id": "8qP5R3n1J9SV"
      },
      "source": [
        "name = input(\"What is your name : \").title().strip()\n",
        "password = \"eniac961\"\n",
        "if name == \"Mahmut\" :\n",
        "  print(\"Hello {} the password is : {}\".format(name, password))\n",
        "else :\n",
        "  print(\"Hello {} See you later\".format(name))"
      ],
      "execution_count": null,
      "outputs": []
    }
  ]
}