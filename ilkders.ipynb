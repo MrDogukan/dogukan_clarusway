{
  "nbformat": 4,
  "nbformat_minor": 0,
  "metadata": {
    "colab": {
      "name": "ilkders.ipynb",
      "provenance": [],
      "authorship_tag": "ABX9TyM4+Br8JLgVSsXd0qcgCTRT",
      "include_colab_link": true
    },
    "kernelspec": {
      "name": "python3",
      "display_name": "Python 3"
    },
    "language_info": {
      "name": "python"
    }
  },
  "cells": [
    {
      "cell_type": "markdown",
      "metadata": {
        "id": "view-in-github",
        "colab_type": "text"
      },
      "source": [
        "<a href=\"https://colab.research.google.com/github/MrDogukan/dogukan_clarusway/blob/main/ilkders.ipynb\" target=\"_parent\"><img src=\"https://colab.research.google.com/assets/colab-badge.svg\" alt=\"Open In Colab\"/></a>"
      ]
    },
    {
      "cell_type": "code",
      "metadata": {
        "id": "mYAQ8BwuNgq4"
      },
      "source": [
        "sayi=int(input(\"Sayıyı Girin : \"))\n",
        "if sayi > 1:\n",
        "   \n",
        "   for i in range(2,sayi):\n",
        "       if (sayi % i) == 0:\n",
        "           print(sayi,\" Asal Sayı Değildir.\")\n",
        "           break\n",
        "   else:\n",
        "       print(sayi,\" Asal Sayıdır.\")\n",
        " \n",
        "else:\n",
        "   print(sayi,\" Asal Sayı Değildir.\")"
      ],
      "execution_count": null,
      "outputs": []
    }
  ]
}